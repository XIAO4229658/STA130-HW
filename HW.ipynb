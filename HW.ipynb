{
 "cells": [
  {
   "cell_type": "markdown",
   "id": "d486b98c",
   "metadata": {},
   "source": [
    "https://chatgpt.com/share/66eba706-4598-8011-8f0e-b4a92aa59523"
   ]
  },
  {
   "cell_type": "code",
   "execution_count": null,
   "id": "2f7ae60b",
   "metadata": {},
   "outputs": [],
   "source": [
    "import numpy as np\n",
    "\n",
    "all_doors = (1, 2, 3)\n",
    "wins = 0\n",
    "reps = 100000\n",
    "\n",
    "for _ in range(reps):\n",
    "    # Randomly choose the winning door and the player's initial choice\n",
    "    winning_door = np.random.choice(all_doors)\n",
    "    player_choice = np.random.choice(all_doors)\n",
    "    \n",
    "    # Host reveals a goat door (not the player's choice or the winning door)\n",
    "    remaining_doors = [door for door in all_doors if door != player_choice and door != winning_door]\n",
    "    revealed_goat = np.random.choice(remaining_doors)\n",
    "    \n",
    "    # Player switches to the remaining door\n",
    "    new_choice = [door for door in all_doors if door != player_choice and door != revealed_goat][0]\n",
    "    \n",
    "    # Check if the player wins by switching\n",
    "    if new_choice == winning_door:\n",
    "        wins += 1\n",
    "\n",
    "# Calculate win rate\n",
    "win_rate = wins / reps\n",
    "print(f\"Win rate by switching: {win_rate:.4f}\")"
   ]
  },
  {
   "cell_type": "markdown",
   "id": "491b9579",
   "metadata": {},
   "source": [
    "For summary, it could be more easier to understand and programme for my preferenced code."
   ]
  },
  {
   "cell_type": "markdown",
   "id": "7f27a750",
   "metadata": {},
   "source": [
    "https://chatgpt.com/share/66ec2a95-3cac-8011-a6b2-1a285c2e77bc"
   ]
  },
  {
   "cell_type": "markdown",
   "id": "8e7e5b5e",
   "metadata": {},
   "source": [
    "The ChatGPT replied really fast for each questions I asked, both in coding and explanation. The conversation does well in recognizing the key words in my question, and is able to announce various aspects of solutions."
   ]
  },
  {
   "cell_type": "markdown",
   "id": "e8b66d2d",
   "metadata": {},
   "source": [
    "The interaction turns to be helpful when it gives tiny explanation to every session of the code for most of the time, it seldom makes confusion for the popped answer. In some situtions, the distinctions in mode for asking may still leads to different answers, sometimes even fail to process, which indicates that how to treat and chat with the chatbot is essential to be studied."
   ]
  },
  {
   "cell_type": "markdown",
   "id": "51b6f333",
   "metadata": {},
   "source": [
    "For me, I acknowledge that AI have already succeeded dramatic prograss for all in coding, statistics and analysis. This turns humans job from creating by themselves to how to treat with AI for a better treatment to each question. When this course starts, I 've recognized that AI's speed for learning is surprisingly fast, the function of AI turns from a tool to an impressive assiatant."
   ]
  },
  {
   "cell_type": "markdown",
   "id": "0e26c3ee",
   "metadata": {},
   "source": [
    "https://chatgpt.com/share/66ec303b-5c50-8011-b0f4-5df6393d1ed0"
   ]
  },
  {
   "cell_type": "markdown",
   "id": "83898840",
   "metadata": {},
   "source": [
    "The answers give out by the chatbot is always comprehensive and detailed, but sometimes for the lack of details for my questions, it is challenging for AI to be specific for one branch to gives out answer. In other words, the chatbot could just guess for what answers may be the one I'm willing to see, and it may require a second or more questions to get the right information I want. In reality, this could result in a waste of time for repeating this kind of prograss."
   ]
  }
 ],
 "metadata": {
  "kernelspec": {
   "display_name": "Python 3 (ipykernel)",
   "language": "python",
   "name": "python3"
  },
  "language_info": {
   "codemirror_mode": {
    "name": "ipython",
    "version": 3
   },
   "file_extension": ".py",
   "mimetype": "text/x-python",
   "name": "python",
   "nbconvert_exporter": "python",
   "pygments_lexer": "ipython3",
   "version": "3.11.6"
  }
 },
 "nbformat": 4,
 "nbformat_minor": 5
}
