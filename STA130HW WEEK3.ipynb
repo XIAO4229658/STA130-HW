{
 "cells": [
  {
   "cell_type": "code",
   "execution_count": null,
   "id": "2d3bb47f",
   "metadata": {},
   "outputs": [],
   "source": [
    "import plotly.express as px\n",
    "import plotly.graph_objects as go\n",
    "import seaborn as sns\n",
    "import pandas as pd\n",
    "\n",
    "# Load the penguins dataset\n",
    "penguins = sns.load_dataset('penguins')\n",
    "\n",
    "# Drop rows with missing 'flipper_length_mm'\n",
    "penguins = penguins.dropna(subset=['flipper_length_mm'])\n",
    "\n",
    "# Create a figure with histograms of flipper_length_mm for each species\n",
    "fig = px.histogram(penguins, x=\"flipper_length_mm\", color=\"species\", barmode=\"overlay\", histnorm='density', nbins=30)\n",
    "\n",
    "# Define a function to add statistical annotations (lines and rectangles) to the figure\n",
    "def add_stat_annotations(species_name, species_data, fig):\n",
    "    # Calculate statistics\n",
    "    flipper_length = species_data['flipper_length_mm']\n",
    "    mean = flipper_length.mean()\n",
    "    median = flipper_length.median()\n",
    "    min_val = flipper_length.min()\n",
    "    max_val = flipper_length.max()\n",
    "    iqr = flipper_length.quantile(0.75) - flipper_length.quantile(0.25)\n",
    "    iqr_range = (flipper_length.quantile(0.25), flipper_length.quantile(0.75))\n",
    "    std_dev = flipper_length.std()\n",
    "    std_range = (mean - 2 * std_dev, mean + 2 * std_dev)\n",
    "\n",
    "    # Add lines for mean and median\n",
    "    fig.add_vline(x=mean, line=dict(color=\"blue\", dash=\"dash\"), annotation_text=f\"{species_name} Mean\", annotation_position=\"top left\")\n",
    "    fig.add_vline(x=median, line=dict(color=\"green\", dash=\"dash\"), annotation_text=f\"{species_name} Median\", annotation_position=\"top right\")\n",
    "\n",
    "    # Add rectangles for range, IQR, and ±2 std deviations\n",
    "    fig.add_vrect(x0=min_val, x1=max_val, line_width=0, fillcolor=\"red\", opacity=0.1, annotation_text=f\"{species_name} Range\", annotation_position=\"top left\")\n",
    "    fig.add_vrect(x0=iqr_range[0], x1=iqr_range[1], line_width=0, fillcolor=\"purple\", opacity=0.1, annotation_text=f\"{species_name} IQR\", annotation_position=\"top left\")\n",
    "    fig.add_vrect(x0=std_range[0], x1=std_range[1], line_width=0, fillcolor=\"orange\", opacity=0.1, annotation_text=f\"{species_name} ±2 Std Dev\", annotation_position=\"top left\")\n",
    "\n",
    "# Loop through each species and add annotations\n",
    "for species, species_data in penguins.groupby('species'):\n",
    "    add_stat_annotations(species, species_data, fig)\n",
    "\n",
    "# Show the plot\n",
    "fig.show()"
   ]
  },
  {
   "cell_type": "code",
   "execution_count": null,
   "id": "53c81173",
   "metadata": {},
   "outputs": [],
   "source": [
    "import seaborn as sns\n",
    "import matplotlib.pyplot as plt\n",
    "import numpy as np\n",
    "\n",
    "# Load the penguins dataset\n",
    "penguins = sns.load_dataset('penguins')\n",
    "\n",
    "# Drop rows with missing 'flipper_length_mm'\n",
    "penguins = penguins.dropna(subset=['flipper_length_mm'])\n",
    "\n",
    "# Create a list of species in the dataset\n",
    "species_list = penguins['species'].unique()\n",
    "\n",
    "# Create a figure with 3 subplots in one row\n",
    "fig, axes = plt.subplots(1, 3, figsize=(18, 6))\n",
    "\n",
    "# Define a function to add statistical annotations to the plots\n",
    "def add_stat_annotations(ax, species_data, color):\n",
    "    # Calculate statistics\n",
    "    flipper_length = species_data['flipper_length_mm']\n",
    "    mean = flipper_length.mean()\n",
    "    median = flipper_length.median()\n",
    "    min_val = flipper_length.min()\n",
    "    max_val = flipper_length.max()\n",
    "    iqr_range = (flipper_length.quantile(0.25), flipper_length.quantile(0.75))\n",
    "    std_dev = flipper_length.std()\n",
    "    std_range = (mean - 2 * std_dev, mean + 2 * std_dev)\n",
    "\n",
    "    # Add vertical lines for the mean and median\n",
    "    ax.axvline(mean, color=\"blue\", linestyle=\"--\", label=\"Mean\")\n",
    "    ax.axvline(median, color=\"green\", linestyle=\"--\", label=\"Median\")\n",
    "    \n",
    "    # Add rectangles for the range, IQR, and ±2 standard deviations\n",
    "    ax.axvspan(min_val, max_val, color=\"red\", alpha=0.1, label=\"Range\")\n",
    "    ax.axvspan(iqr_range[0], iqr_range[1], color=\"purple\", alpha=0.1, label=\"IQR\")\n",
    "    ax.axvspan(std_range[0], std_range[1], color=\"orange\", alpha=0.1, label=\"±2 Std Dev\")\n",
    "\n",
    "# Plot KDE for each species on separate subplots\n",
    "for ax, species in zip(axes, species_list):\n",
    "    species_data = penguins[penguins['species'] == species]\n",
    "    \n",
    "    # Plot KDE for flipper_length_mm\n",
    "    sns.kdeplot(species_data['flipper_length_mm'], ax=ax, fill=True, color=\"skyblue\", label=f'{species} KDE')\n",
    "    \n",
    "    # Add statistical annotations\n",
    "    add_stat_annotations(ax, species_data, color=\"skyblue\")\n",
    "    \n",
    "    # Set title and labels\n",
    "    ax.set_title(f'{species} Flipper Length KDE')\n",
    "    ax.set_xlabel('Flipper Length (mm)')\n",
    "    ax.set_ylabel('Density')\n",
    "\n",
    "# Add a legend to each subplot\n",
    "for ax in axes:\n",
    "    ax.legend()\n",
    "\n",
    "# Adjust layout to prevent overlap\n",
    "plt.tight_layout()\n",
    "\n",
    "# Show the plot\n",
    "plt.show()\n"
   ]
  },
  {
   "cell_type": "markdown",
   "id": "72f639d2",
   "metadata": {},
   "source": [
    "I certainly prefer the method of seaborn kernel density estimation (KDE) plots, because the comparison it made is the clearest, and I won't see any wasted information hanging on the visualization."
   ]
  },
  {
   "cell_type": "markdown",
   "id": "6c946805",
   "metadata": {},
   "source": [
    "https://chatgpt.com/share/66f35e81-c5ec-8011-b5b4-87423c29f126"
   ]
  },
  {
   "cell_type": "code",
   "execution_count": null,
   "id": "aef873bc",
   "metadata": {},
   "outputs": [],
   "source": [
    "from scipy import stats\n",
    "import plotly.graph_objects as go\n",
    "from plotly.subplots import make_subplots\n",
    "import numpy as np\n",
    "\n",
    "n = 1500\n",
    "data1 = stats.uniform.rvs(0, 10, size=n)\n",
    "data2 = stats.norm.rvs(5, 1.5, size=n)\n",
    "data3 = np.r_[stats.norm.rvs(2, 0.25, size=int(n/2)), stats.norm.rvs(8, 0.5, size=int(n/2))]\n",
    "data4 = stats.norm.rvs(6, 0.5, size=n)\n",
    "\n",
    "fig = make_subplots(rows=1, cols=4)\n",
    "\n",
    "fig.add_trace(go.Histogram(x=data1, name='A', nbinsx=30, marker=dict(line=dict(color='black', width=1))), row=1, col=1)\n",
    "fig.add_trace(go.Histogram(x=data2, name='B', nbinsx=15, marker=dict(line=dict(color='black', width=1))), row=1, col=2)\n",
    "fig.add_trace(go.Histogram(x=data3, name='C', nbinsx=45, marker=dict(line=dict(color='black', width=1))), row=1, col=3)\n",
    "fig.add_trace(go.Histogram(x=data4, name='D', nbinsx=15, marker=dict(line=dict(color='black', width=1))), row=1, col=4)\n",
    "\n",
    "fig.update_layout(height=300, width=750, title_text=\"Row of Histograms\")\n",
    "fig.update_xaxes(title_text=\"A\", row=1, col=1)\n",
    "fig.update_xaxes(title_text=\"B\", row=1, col=2)\n",
    "fig.update_xaxes(title_text=\"C\", row=1, col=3)\n",
    "fig.update_xaxes(title_text=\"D\", row=1, col=4)\n",
    "fig.update_xaxes(range=[-0.5, 10.5])\n",
    "\n",
    "for trace in fig.data:\n",
    "    trace.xbins = dict(start=0, end=10)\n",
    "    \n",
    "# This code was produced by just making requests to Microsoft Copilot\n",
    "# https://github.com/pointOfive/stat130chat130/blob/main/CHATLOG/wk3/COP/SLS/0001_concise_makeAplotV1.md\n",
    "\n",
    "fig.show() # USE `fig.show(renderer=\"png\")` FOR ALL GitHub and MarkUs SUBMISSIONS"
   ]
  },
  {
   "cell_type": "markdown",
   "id": "c1309973",
   "metadata": {},
   "source": [
    "Answer: 1. B and D 2. A and C 3. C and D 4. A and D"
   ]
  },
  {
   "cell_type": "markdown",
   "id": "b25bea45",
   "metadata": {},
   "source": [
    "Right skewness always have greater mean than the median, since the extreme number from the right side leads the mean to be greater, but the extreme value is limited in amount, hence median is not being affectted that much. Whereas for left skewness median is greater than mean, this leads extreme number to be small which leads the mean being smaller, median is still not changed much, so mean becomes smaller."
   ]
  },
  {
   "cell_type": "markdown",
   "id": "18c112f2",
   "metadata": {},
   "source": [
    "https://chatgpt.com/share/66f430d4-a5a0-8011-81c8-4bbdc2749550"
   ]
  }
 ],
 "metadata": {
  "kernelspec": {
   "display_name": "Python 3 (ipykernel)",
   "language": "python",
   "name": "python3"
  },
  "language_info": {
   "codemirror_mode": {
    "name": "ipython",
    "version": 3
   },
   "file_extension": ".py",
   "mimetype": "text/x-python",
   "name": "python",
   "nbconvert_exporter": "python",
   "pygments_lexer": "ipython3",
   "version": "3.11.6"
  }
 },
 "nbformat": 4,
 "nbformat_minor": 5
}
