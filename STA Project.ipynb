{
 "cells": [
  {
   "cell_type": "markdown",
   "id": "800681fe",
   "metadata": {},
   "source": [
    "Research Question1: What kind of relationships are the differences in life satisfaction between people of different ages based on?"
   ]
  },
  {
   "cell_type": "markdown",
   "id": "057c3a5b",
   "metadata": {},
   "source": [
    "Variable representation: \n",
    "1. differences in life satisfaction, 2. different ages.\n",
    "Exploration: From the dataset, we could find out that we need to use the values from columns of age and life satisfaction which are all in forms of digits. A bar chart would be useful to visualize the relationship as it could provide a clear comparison between different age groups and satisfaction standards. We could divide the ages into different groups to from the bars(e.g. 18<age<30 is defined as young group). Addtionally, the scales of life satisfaction could also be demonstrated as bars by splitting into groups of (e.g. poor, medium, full). Therefore, we could have a chart clearly showing that the number of people distributed into three criterias of life satisfaction for each age groups."
   ]
  },
  {
   "cell_type": "markdown",
   "id": "75b1e21d",
   "metadata": {},
   "source": [
    "Analysis: One-way analysis of variance(method)\n",
    "1. Make sure the data of age groups and scales of life satisfaction are categorized.\n",
    "2. Calculate the median, mean, and standard deviation for each age group. Use of box plots to display the distribution of life satisfaction scores within each age group, highlighting medians and quartiles.\n",
    "3. Perform the one-way analysis of variance to compare the mean levels across age groups as there is only one independent variable (age groups)\n",
    "4. Testing if the sclale of satisfation varies a lot according to other age groups.\n",
    "5. Null Hypothesis (H0): There is no significant difference in life satisfaction between different age groups.        Alternative Hypothesis (H1): There is a significant difference in life satisfaction between different age        groups."
   ]
  },
  {
   "cell_type": "markdown",
   "id": "51b43946",
   "metadata": {},
   "source": [
    "Hypothesis: I guess the result will be a significant difference in sclaes of life satisfaction between different age groups. People who are in the old groups are tend to have a higher standard of life satisfaction overall comparing to younger groups. This may caused by factors like more free time, less financial pressure brought by pensions. This illustrates that the relationship of ages and life satisfaction is likely to be positive, higher the age, higher life saticfation people may have."
   ]
  },
  {
   "cell_type": "markdown",
   "id": "eedac5ec",
   "metadata": {},
   "source": [
    "Research question2: Which group of people do people prefer to spend their social time interacting with?"
   ]
  },
  {
   "cell_type": "markdown",
   "id": "b3813681",
   "metadata": {},
   "source": [
    "Variable representation: \n",
    "1. time spending, 2. different groups of people.\n",
    "Exploration: From the dataset, I'll need this information from four distinct groups of people, they are family members, friends, classmates&coworkers and neighbourhoods. The standard is also in three degrees, less than an hour, between 1 to 5 hours and more than 5 hours. To illustrate the comparison clearly, a bar chart is still the best choice I recognized to use."
   ]
  },
  {
   "cell_type": "markdown",
   "id": "4bd4f3d4",
   "metadata": {},
   "source": [
    "Analysis: One-way analysis of variance(method)\n",
    "1. The procedure is similar to question 1. The categories are already been modified.\n",
    "2. Calculate the median, mean, and standard deviation for each group of people. Use of box plots to display the distribution of life satisfaction scores within each age group, highlighting medians and quartiles.\n",
    "3. Perform the one-way analysis of variance to compare the mean levels across age groups as there is only one independent variable (group of people)\n",
    "4. Null Hypothesis (H0): People are spending most of their time on their family members. \n",
    "   Alternative Hypothesis (H1): People are not spending most of their time on their family members."
   ]
  },
  {
   "cell_type": "markdown",
   "id": "13b3a191",
   "metadata": {},
   "source": [
    "Hypothesis: The result is hard to have a guess for a final conclusion. Personally, family members and friends are the two groups of people who we all spent a large amount of time with. Ideally, interaction with family members is somehow like a responsibility since they are related with blood, it tends to be objective(we are borned with a family). Friends tends to be subjective since we choose our own friends and gather around with same (e.g. interest, target, idol). If the null hypothesis is rejected, the answer to the question is probably friends, and vice versa, the family members will be the answer if the null hypothesis is fail to be rejected."
   ]
  },
  {
   "cell_type": "markdown",
   "id": "f9f65985",
   "metadata": {},
   "source": [
    "Research question3: Are certain age groups more prone to loneliness than others?"
   ]
  },
  {
   "cell_type": "markdown",
   "id": "95fd3dcb",
   "metadata": {},
   "source": [
    "Variable representation:\n",
    "1. certain age groups, 2. prone to loneliness\n",
    "Exploration: The age groups are still modified from ages. The key idea should be comparing loneliness scores across age groups to visualize differences with box plots."
   ]
  },
  {
   "cell_type": "markdown",
   "id": "7c33ba5a",
   "metadata": {},
   "source": [
    "Analysis: \n",
    "1. Make sure the data of age groups and scale of loneliness are categorized.\n",
    "2. Box chart requires data of mean, median and quartiles. These parts are used to draw whiskers and outliers of the graph.\n",
    "3. H0: There is no significant difference in loneliness scores between different age groups.\n",
    "   H1: There is a significant difference in loneliness scores between different age groups."
   ]
  },
  {
   "cell_type": "markdown",
   "id": "504e1ba7",
   "metadata": {},
   "source": [
    "Hypothesis: I think certain age groups are more prone to loneliness than others. Based on existing research and theories, we can hypothesize that loneliness levels vary significantly across different age groups. For example, younger adults (18-30 years) and older adults (65+ years) might experience higher levels of loneliness compared to middle-aged adults (31-64 years). This hypothesis is grounded in the understanding that different life stages come with unique social challenges and changes that can impact feelings of loneliness."
   ]
  }
 ],
 "metadata": {
  "kernelspec": {
   "display_name": "Python 3 (ipykernel)",
   "language": "python",
   "name": "python3"
  },
  "language_info": {
   "codemirror_mode": {
    "name": "ipython",
    "version": 3
   },
   "file_extension": ".py",
   "mimetype": "text/x-python",
   "name": "python",
   "nbconvert_exporter": "python",
   "pygments_lexer": "ipython3",
   "version": "3.11.6"
  }
 },
 "nbformat": 4,
 "nbformat_minor": 5
}
