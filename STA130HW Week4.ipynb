{
 "cells": [
  {
   "cell_type": "markdown",
   "id": "bead9d79",
   "metadata": {},
   "source": [
    "1. Standard deviation means the spread of individual data points related to the mean, whereas the standard error is more about precision of the sample mean as an estimate of the population mean. The first subjects on the data itselt, the second indicates how well the sample mean works to estimate population mean. "
   ]
  },
  {
   "cell_type": "markdown",
   "id": "c936c250",
   "metadata": {},
   "source": [
    "2. First, calculate the value of the sample mean and the standard error of the mean. Second, determine the critical value by looking the table of z-value(large population) and t-value(small population), which is different when you are taking different percentages. Finally, the confidence interval could be callculated according the percentage you would like to have."
   ]
  },
  {
   "cell_type": "markdown",
   "id": "07606091",
   "metadata": {},
   "source": [
    "3. Firstly, calculate the mean for each bootstrapped sample, which is used to sort the bootstrapped means. This time we are careating 95%, so we identify the percentile of 2.5th and 97.5th. The interval within these two percentiles is what we are looking for(95%)."
   ]
  },
  {
   "cell_type": "code",
   "execution_count": null,
   "id": "7db63d0f",
   "metadata": {},
   "outputs": [],
   "source": [
    "import numpy as np\n",
    "\n",
    "# Example dataset: Replace this with actual height data in centimeters\n",
    "# Hypothetical data of heights in centimeters\n",
    "height_data = np.random.normal(loc=165, scale=10, size=1000)  # Replace with actual data\n",
    "\n",
    "# Filter the data for people shorter than 160 cm\n",
    "filtered_data = height_data[height_data < 160]\n",
    "\n",
    "# Number of bootstrap samples\n",
    "n_bootstraps = 10000\n",
    "\n",
    "# Bootstrap sampling\n",
    "bootstrap_means = []\n",
    "for _ in range(n_bootstraps):\n",
    "    bootstrap_sample = np.random.choice(filtered_data, size=len(filtered_data), replace=True)\n",
    "    bootstrap_means.append(np.mean(bootstrap_sample))\n",
    "\n",
    "# Convert to a numpy array\n",
    "bootstrap_means = np.array(bootstrap_means)\n",
    "\n",
    "# Compute the 95% confidence interval (2.5th and 97.5th percentiles)\n",
    "lower_bound = np.percentile(bootstrap_means, 2.5)\n",
    "upper_bound = np.percentile(bootstrap_means, 97.5)\n",
    "\n",
    "# Output the result\n",
    "print(f\"95% Bootstrap Confidence Interval for the mean height of people shorter than 160 cm: [{lower_bound:.2f}, {upper_bound:.2f}] cm\")"
   ]
  },
  {
   "cell_type": "markdown",
   "id": "081c3c9b",
   "metadata": {},
   "source": [
    "5. The Population Parameter is fixed but unknown, whereas the Sample Statistic is an estimate and varies. Confidence interval is just outlined the estimation of population parameter, it doesn't describe the variability of the sample statistic. So they should be distinguished."
   ]
  },
  {
   "cell_type": "markdown",
   "id": "491ed81b",
   "metadata": {},
   "source": [
    "8. Report about the effectiveness\n",
    "Fisrt gives a criteria of how to identify effectiveness, I focus on the result of final score minus initial score.\n",
    "If the score is positive then it is effective, and vice versa.\n",
    "Hence, I give out my hypothesis, final - initial > 0:\n",
    "Calculate the mean improvement for 10 patients which is 3.3, and then identify the standard deviation and the criticle value(t-value) for calculate the confidence interval of 90%(example standard). In this situation, the rusults lies between 0.96 and 5.64 which doesn't includes 0. \n",
    "Therefore, in conclusion, the the vaccine will be effective."
   ]
  },
  {
   "cell_type": "markdown",
   "id": "a40bd15c",
   "metadata": {},
   "source": [
    "https://chatgpt.com/share/66fd99dc-369c-8011-b8a7-ab8752a29e7f"
   ]
  }
 ],
 "metadata": {
  "kernelspec": {
   "display_name": "Python 3 (ipykernel)",
   "language": "python",
   "name": "python3"
  },
  "language_info": {
   "codemirror_mode": {
    "name": "ipython",
    "version": 3
   },
   "file_extension": ".py",
   "mimetype": "text/x-python",
   "name": "python",
   "nbconvert_exporter": "python",
   "pygments_lexer": "ipython3",
   "version": "3.11.6"
  }
 },
 "nbformat": 4,
 "nbformat_minor": 5
}
