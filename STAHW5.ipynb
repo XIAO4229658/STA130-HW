{
 "cells": [
  {
   "cell_type": "markdown",
   "id": "7e06d2e5",
   "metadata": {},
   "source": [
    "1. An idea which can be tested and examined should have a clear definition, makes is a measurable quantity. In        addition, compared to ideas which can't be tested, the data of idea could be gathered and compared.\n",
    "   The null hypothesis should be testable, specific and neutral, making it an ideal basis for statistical analysis.\n",
    "The null hypothesis has no effect, no difference, or no relationship between variables. For alternative         hypothesis, there will be a significant effect, a difference, or a relationship between variables. In real testing, the null hypothesis often is set to be rejected, if null hypothesis failed, then the alternative hypothesis will be accepted."
   ]
  },
  {
   "cell_type": "markdown",
   "id": "c69695db",
   "metadata": {},
   "source": [
    "2. It means that hypothesis testing is focused on drawing conclusions about population parameters (like the population mean μ) using sample statistics (like the sample mean x̄). The main target is to use these as tools to make probabilistic statements about the true population values (such as μ and σ)."
   ]
  },
  {
   "cell_type": "markdown",
   "id": "d7d79b84",
   "metadata": {},
   "source": [
    "3. In this imagined world, any differences we observe in a sample would be due to random chance, because we are assuming that, in reality, there is no true difference between the groups."
   ]
  },
  {
   "cell_type": "markdown",
   "id": "abdc0ba0",
   "metadata": {},
   "source": [
    "4. The observed results are unlikely under the null hypothesis that it becomes harder to believe that the null hypothesis could be correct. The smaller the p-value, the stronger the evidence against the null hypothesis."
   ]
  },
  {
   "cell_type": "markdown",
   "id": "75b9d063",
   "metadata": {},
   "source": [
    "5. p-value approximately 0.0009, very strong evidence against the null hypothesis."
   ]
  },
  {
   "cell_type": "markdown",
   "id": "ee3486ac",
   "metadata": {},
   "source": [
    "6. Smaller p-value cannot definitely prove the null hypothesis is false, there may be uncertainty in the test. Moreover, p-value can only prove or disprove the hypothesis to a certain extent, whatever how high or low the p-value is, it would not be definite. It is like possiblities which will absolutely contain uncertainty."
   ]
  },
  {
   "cell_type": "markdown",
   "id": "06eae030",
   "metadata": {},
   "source": [
    "https://chatgpt.com/share/67089b9f-c52c-8011-a125-7b1da15f9af8"
   ]
  },
  {
   "cell_type": "markdown",
   "id": "86f86be5",
   "metadata": {},
   "source": [
    "8. Aim to assess whether students can correctly identify whether milk or tea was poured first based on taste.\n",
    "Population: All students in the STA130 class.\n",
    "Sample: 80 STA130 students.\n",
    "Parameter: The proportion of students in the population who can correctly identified.\n",
    "H0: p = 0.5         H1: p > 0.5\n",
    "The value is set to 0.5 since the probability of correctly identifying the order is the same as a random guess.\n",
    "I am going to use z-test since the quantity of population is large (80).\n",
    "The sample proportion given is 49/80 = 61.25%, we use these results to calculate the p-value which is roundly 0.0221, according to the table under Q5, there is a moderate evidence against null hypothesis."
   ]
  },
  {
   "cell_type": "code",
   "execution_count": null,
   "id": "d6483894",
   "metadata": {},
   "outputs": [],
   "source": [
    "import scipy.stats as stats\n",
    "\n",
    "# Function to perform the z-test for proportions\n",
    "def tea_tasting_experiment(successes, total, p_null=0.5, alpha=0.05):\n",
    "    # Step 1: Compute sample proportion\n",
    "    p_hat = successes / total\n",
    "    \n",
    "    # Step 2: Calculate z-test statistic\n",
    "    z_stat = (p_hat - p_null) / ((p_null * (1 - p_null)) / total) ** 0.5\n",
    "    \n",
    "    # Step 3: Calculate p-value for a one-tailed test (right-tailed)\n",
    "    p_value = 1 - stats.norm.cdf(z_stat)\n",
    "    \n",
    "    # Step 4: Make a decision based on the significance level\n",
    "    decision = \"Reject H0\" if p_value < alpha else \"Fail to reject H0\"\n",
    "    \n",
    "    # Step 5: Return the results\n",
    "    return {\n",
    "        'Sample Proportion (p̂)': p_hat,\n",
    "        'Null Proportion (p₀)': p_null,\n",
    "        'Z-test Statistic': z_stat,\n",
    "        'P-value': p_value,\n",
    "        'Decision': decision\n",
    "    }\n",
    "\n",
    "# Example usage for the tea tasting experiment\n",
    "results = tea_tasting_experiment(successes=49, total=80)\n",
    "\n",
    "# Print the results\n",
    "for key, value in results.items():\n",
    "    print(f\"{key}: {value}\")"
   ]
  }
 ],
 "metadata": {
  "kernelspec": {
   "display_name": "Python 3 (ipykernel)",
   "language": "python",
   "name": "python3"
  },
  "language_info": {
   "codemirror_mode": {
    "name": "ipython",
    "version": 3
   },
   "file_extension": ".py",
   "mimetype": "text/x-python",
   "name": "python",
   "nbconvert_exporter": "python",
   "pygments_lexer": "ipython3",
   "version": "3.11.6"
  }
 },
 "nbformat": 4,
 "nbformat_minor": 5
}
